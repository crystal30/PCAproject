{
 "cells": [
  {
   "cell_type": "code",
   "execution_count": 1,
   "metadata": {},
   "outputs": [],
   "source": [
    "# 继续沿用上一个例子\n",
    "import numpy as np\n",
    "import matplotlib.pylab as plt\n",
    "X = np.empty(shape=[100,2])\n",
    "X[:,0] = np.random.uniform(0.,100.,size = 100)\n",
    "X[:,1] = 0.75*X[:,0] + 3. + np.random.normal(0.,10.,size=100)\n"
   ]
  },
  {
   "cell_type": "code",
   "execution_count": 2,
   "metadata": {},
   "outputs": [],
   "source": [
    "def demean(X):\n",
    "    return X - np.mean(X,axis = 0)"
   ]
  },
  {
   "cell_type": "code",
   "execution_count": 19,
   "metadata": {},
   "outputs": [],
   "source": [
    "def f(X,w):\n",
    "    '''\n",
    "    X:为样本矩阵\n",
    "    w：为样本所要映射的方向向量\n",
    "    '''\n",
    "    X = demean(X)\n",
    "    return (X.dot(w)).T.dot(X).dot(w)/len(X)\n",
    "\n",
    "def df(X,w):\n",
    "    '''\n",
    "    X:为样本矩阵\n",
    "    w：为样本所要映射的方向向量\n",
    "    '''\n",
    "    X = demean(X)\n",
    "    return X.T.dot(X).dot(w)*2./len(X)\n",
    "\n",
    "# 注意 我们假设w是单位的方向向量，但是，在每次迭代更新w时，并不能保证w一直是单位向量，故需要将w单位化\n",
    "def unit_w(w):\n",
    "    return w/np.linalg.norm(w)\n",
    "\n",
    "def first_component(X, init_w, eta = 0.001, n_iters = 1e4, epsilon = 1e-8):\n",
    "    '''\n",
    "    X: 样本矩阵\n",
    "    init_w: 初始化的方向向量\n",
    "    '''\n",
    "    w = init_w\n",
    "    w = unit_w(w)\n",
    "    i_iters = 0\n",
    "    while i_iters < n_iters:\n",
    "        i_iters +=1\n",
    "        last_w = w\n",
    "        w = w + eta*df(X,w)\n",
    "        w = unit_w(w)\n",
    "        if f(X,w) -  f(X,last_w) <= epsilon:\n",
    "            break \n",
    "        \n",
    "    return w\n",
    "\n",
    "def first_n_component(X, n, eta = 0.001, n_iters = 1e4, epsilon = 1e-8):\n",
    "    '''\n",
    "    eta : 学习速率\n",
    "    n_iters；迭代的最大次数\n",
    "    epsilon : 残差（当前函数值与上次函数值之间的差值）的最小值\n",
    "    \n",
    "    '''\n",
    "    X = demean(X)\n",
    "    X_pca = X.copy()\n",
    "    n_component = []\n",
    "    init_w = np.random.random(size = X.shape[1])\n",
    "    for i in range(n):\n",
    "        w = first_component(X_pca, init_w)\n",
    "        n_component.append(w)\n",
    "        X_pca = X_pca - X_pca.dot(w).reshape(-1,1) * w\n",
    "    return n_component\n",
    "    "
   ]
  },
  {
   "cell_type": "code",
   "execution_count": 20,
   "metadata": {},
   "outputs": [
    {
     "data": {
      "text/plain": [
       "[array([0.79031365, 0.61270248]), array([-0.61268522,  0.79032703])]"
      ]
     },
     "execution_count": 20,
     "metadata": {},
     "output_type": "execute_result"
    }
   ],
   "source": [
    "n = 2\n",
    "w = first_n_component(X, n)\n",
    "w"
   ]
  },
  {
   "cell_type": "markdown",
   "metadata": {},
   "source": [
    "# 可视化计算结果"
   ]
  },
  {
   "cell_type": "code",
   "execution_count": 27,
   "metadata": {},
   "outputs": [
    {
     "data": {
      "image/png": "[encoded data removed]",
      "text/plain": [
       "<matplotlib.figure.Figure at 0x7f65db3edda0>"
      ]
     },
     "metadata": {},
     "output_type": "display_data"
    }
   ],
   "source": [
    "X = demean(X)\n",
    "plt.scatter(X[:,0], X[:,1])\n",
    "plt.plot([0,w[0][0]*100],[0,w[0][1]*100],color = 'r')\n",
    "plt.plot([0,w[1][0]*100],[0,w[1][1]*100],color = 'g')\n",
    "plt.show()"
   ]
  },
  {
   "cell_type": "code",
   "execution_count": 28,
   "metadata": {},
   "outputs": [
    {
     "data": {
      "image/png": "[encoded data removed]",
      "text/plain": [
       "<matplotlib.figure.Figure at 0x7f65db14bdd8>"
      ]
     },
     "metadata": {},
     "output_type": "display_data"
    }
   ],
   "source": [
    "X[:,1] = 0.75*X[:,0] + 3.  # 若不加噪声\n",
    "X = demean(X)\n",
    "plt.scatter(X[:,0], X[:,1])\n",
    "plt.plot([0,w[0][0]*100],[0,w[0][1]*100],color = 'r')\n",
    "plt.plot([0,w[1][0]*100],[0,w[1][1]*100],color = 'g')\n",
    "plt.show()"
   ]
  },
  {
   "cell_type": "markdown",
   "metadata": {},
   "source": [
    "与理论分析的结果一致"
   ]
  },
  {
   "cell_type": "code",
   "execution_count": 31,
   "metadata": {},
   "outputs": [
    {
     "data": {
      "text/plain": [
       "2.1836918800810512e-05"
      ]
     },
     "execution_count": 31,
     "metadata": {},
     "output_type": "execute_result"
    }
   ],
   "source": [
    "# 两个主成分的方向垂直，即其内乘积为0\n",
    "w[0].dot(w[1])"
   ]
  },
  {
   "cell_type": "code",
   "execution_count": null,
   "metadata": {},
   "outputs": [],
   "source": []
  }
 ],
 "metadata": {
  "kernelspec": {
   "display_name": "Python 3",
   "language": "python",
   "name": "python3"
  },
  "language_info": {
   "codemirror_mode": {
    "name": "ipython",
    "version": 3
   },
   "file_extension": ".py",
   "mimetype": "text/x-python",
   "name": "python",
   "nbconvert_exporter": "python",
   "pygments_lexer": "ipython3",
   "version": "3.6.4"
  }
 },
 "nbformat": 4,
 "nbformat_minor": 2
}
